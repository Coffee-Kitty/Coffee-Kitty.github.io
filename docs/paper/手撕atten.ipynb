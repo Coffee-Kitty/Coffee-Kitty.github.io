{
 "cells": [
  {
   "cell_type": "code",
   "execution_count": 3,
   "metadata": {},
   "outputs": [
    {
     "name": "stdout",
     "output_type": "stream",
     "text": [
      "torch.Size([2, 5, 16])\n"
     ]
    }
   ],
   "source": [
    "import torch\n",
    "import torch.nn as nn\n",
    "import math\n",
    "class Atten(nn.Module):\n",
    "    def __init__(self,hidden_dim):\n",
    "        super().__init__()\n",
    "\n",
    "        self.q = nn.Linear(hidden_dim,hidden_dim)\n",
    "        self.k = nn.Linear(hidden_dim,hidden_dim)\n",
    "        self.v = nn.Linear(hidden_dim,hidden_dim)\n",
    "        \n",
    "        self.hidden_dim = hidden_dim\n",
    "\n",
    "    def forward(self,x):\n",
    "        # x (batch_size,seq_len,hidden_dim)\n",
    "\n",
    "        q,k,v = self.q(x),self.k(x),self.v(x)\n",
    "        \n",
    "        scores = torch.matmul(q,k.transpose(-1,-2))\n",
    "        scores /= math.sqrt(self.hidden_dim)\n",
    "        atten_weight = torch.softmax(scores, dim=-1)\n",
    "\n",
    "        output = torch.matmul(atten_weight, v)\n",
    "        return output\n",
    "\n",
    "X = torch.rand((2,5,16))\n",
    "atten = Atten(16)\n",
    "output = atten(X)\n",
    "print(output.shape)\n",
    "\n"
   ]
  },
  {
   "cell_type": "code",
   "execution_count": 2,
   "metadata": {},
   "outputs": [
    {
     "name": "stdout",
     "output_type": "stream",
     "text": [
      "\u001b[1;31mDocstring:\u001b[0m\n",
      "sqrt(input, *, out=None) -> Tensor\n",
      "\n",
      "Returns a new tensor with the square-root of the elements of :attr:`input`.\n",
      "\n",
      ".. math::\n",
      "    \\text{out}_{i} = \\sqrt{\\text{input}_{i}}\n",
      "\n",
      "Args:\n",
      "    input (Tensor): the input tensor.\n",
      "\n",
      "Keyword args:\n",
      "    out (Tensor, optional): the output tensor.\n",
      "\n",
      "Example::\n",
      "\n",
      "    >>> a = torch.randn(4)\n",
      "    >>> a\n",
      "    tensor([-2.0755,  1.0226,  0.0831,  0.4806])\n",
      "    >>> torch.sqrt(a)\n",
      "    tensor([    nan,  1.0112,  0.2883,  0.6933])\n",
      "\u001b[1;31mType:\u001b[0m      builtin_function_or_method"
     ]
    }
   ],
   "source": [
    "torch.sqrt?"
   ]
  }
 ],
 "metadata": {
  "kernelspec": {
   "display_name": "pytorch118",
   "language": "python",
   "name": "python3"
  },
  "language_info": {
   "codemirror_mode": {
    "name": "ipython",
    "version": 3
   },
   "file_extension": ".py",
   "mimetype": "text/x-python",
   "name": "python",
   "nbconvert_exporter": "python",
   "pygments_lexer": "ipython3",
   "version": "3.9.18"
  }
 },
 "nbformat": 4,
 "nbformat_minor": 2
}
