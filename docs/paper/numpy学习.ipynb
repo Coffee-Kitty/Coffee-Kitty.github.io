{
 "cells": [
  {
   "cell_type": "markdown",
   "metadata": {},
   "source": [
    "numpy基础学习"
   ]
  },
  {
   "cell_type": "code",
   "execution_count": 18,
   "metadata": {},
   "outputs": [
    {
     "data": {
      "text/plain": [
       "(array([ 5, 10]), 5, 10)"
      ]
     },
     "execution_count": 18,
     "metadata": {},
     "output_type": "execute_result"
    }
   ],
   "source": [
    "import numpy as np\n",
    "a = [0,2.,4,6,8,10,12]\n",
    "a = np.array(a)\n",
    "a[0:4:2]\n",
    "a[3]\n",
    "a[4]\n",
    "a[[3,4]]\n",
    "\"\"\"\n",
    "array([6., 8.])\n",
    "\"\"\"\n",
    "\n",
    "b = np.arange(12).reshape(3,4)\n",
    "b[1], b[1,1]\n",
    "\"\"\" \n",
    "array([4, 5, 6, 7]), 5\n",
    "\"\"\"\n",
    "b[[1,2],[1,2]] ,b[1,1],b[2,2]\n",
    "\"\"\" \n",
    "一个非常有意思的索引机制\n",
    "array([ 5, 10]), 5, 10\n",
    "\"\"\""
   ]
  },
  {
   "cell_type": "code",
   "execution_count": 49,
   "metadata": {},
   "outputs": [
    {
     "data": {
      "text/plain": [
       "array([[0, 0, 0, 0],\n",
       "       [0, 0, 0, 1],\n",
       "       [2, 3, 4, 5]])"
      ]
     },
     "execution_count": 49,
     "metadata": {},
     "output_type": "execute_result"
    }
   ],
   "source": [
    "a = np.arange(12).reshape(3,4)\n",
    "a\n",
    "\"\"\" \n",
    "array([[ 0,  1,  2,  3],\n",
    "       [ 4,  5,  6,  7],\n",
    "       [ 8,  9, 10, 11]])\n",
    "\"\"\"\n",
    "a > 5\n",
    "\"\"\" \n",
    "array([[False, False, False, False],\n",
    "       [False, False,  True,  True],\n",
    "       [ True,  True,  True,  True]])\n",
    "\"\"\"\n",
    "a - 2\n",
    "\"\"\"\n",
    "array([[-2, -1,  0,  1],\n",
    "       [ 2,  3,  4,  5],\n",
    "       [ 6,  7,  8,  9]])\n",
    "\"\"\"\n",
    "a[a>5]\n",
    "\"\"\" \n",
    "array([ 6,  7,  8,  9, 10, 11])\n",
    "\"\"\"\n",
    "# 获取所有的奇数\n",
    "a[a%2==1]\n",
    "\"\"\" \n",
    "array([ 1,  3,  5,  7,  9, 11])\n",
    "\"\"\"\n",
    "# 将奇数都赋值为0\n",
    "a[a%2==1]=0 \n",
    "a\n",
    "\"\"\" \n",
    "array([[ 0,  0,  2,  0],\n",
    "       [ 4,  0,  6,  0],\n",
    "       [ 8,  0, 10,  0]])\n",
    "\"\"\"\n",
    "# relu函数\n",
    "a=  np.arange(-6,6).reshape(3,4)\n",
    "a[a<0]=0\n",
    "a\n"
   ]
  },
  {
   "cell_type": "code",
   "execution_count": 62,
   "metadata": {},
   "outputs": [],
   "source": [
    "\n",
    "# 关于广播机制\n",
    "a=np.arange(12).reshape(3,4)\n",
    "b = np.array([1,2,3,4])\n",
    "a,b,a-b\n",
    "\"\"\" \n",
    "(array([[ 0,  1,  2,  3],\n",
    "        [ 4,  5,  6,  7],\n",
    "        [ 8,  9, 10, 11]]),\n",
    " array([1, 2, 3, 4]),\n",
    " array([[-1, -1, -1, -1],\n",
    "        [ 3,  3,  3,  3],\n",
    "        [ 7,  7,  7,  7]]))\n",
    "\"\"\"\n",
    "b = np.array([[1,2,3,4],[5,6,7,8]])\n",
    "# a,b,a-b\n",
    "\"\"\" \n",
    "ValueError: operands could not be broadcast together with shapes (3,4) (2,4)\n",
    "\"\"\"\n",
    "\n",
    "b=np.array([1,2,3])\n",
    "# a,b,a-b\n",
    "\"\"\" \n",
    "operands could not be broadcast together with shapes (3,4) (3,)\n",
    "\"\"\"\n",
    "b=np.array([1,2,3]).reshape(3,1)\n",
    "a,b,a-b\n",
    "\"\"\" \n",
    "(array([[ 0,  1,  2,  3],\n",
    "        [ 4,  5,  6,  7],\n",
    "        [ 8,  9, 10, 11]]),\n",
    " array([[1],\n",
    "        [2],\n",
    "        [3]]),\n",
    " array([[-1,  0,  1,  2],\n",
    "        [ 2,  3,  4,  5],\n",
    "        [ 5,  6,  7,  8]]))\n",
    "\"\"\"\n",
    "\n",
    "\"\"\" \n",
    "广播的两种条件\n",
    "(3,4) 和 (4,)\n",
    "(3,4) 和 (3,1)\n",
    "\n",
    "1. 后缀维度相符，可以做广播\n",
    "比如 (3,4,5) 就可以和 (5,) (4,5)\n",
    "2. 其中有一个轴的维度为1，其余都相同\n",
    "\"\"\"\n",
    "a = np.arange(3*4*5).reshape(3,4,5)\n",
    "b = np.random.rand(1*5).reshape(-1,5)\n",
    "c = np.ones((4,5)).reshape(-1,4,5)\n",
    "a-b,a-c\n",
    "# 成功\n",
    "\n",
    "a=np.zeros((4,4,4))\n",
    "b=np.ones((4,4,1))\n",
    "a-b\n",
    "# 成功\n",
    "\n",
    "a=np.zeros((4,4,4))\n",
    "b=np.ones((4,4,2))\n",
    "# a-b\n",
    "# error"
   ]
  },
  {
   "cell_type": "code",
   "execution_count": 68,
   "metadata": {},
   "outputs": [
    {
     "data": {
      "text/plain": [
       "' \\narray([[ 0,  4,  8],\\n        [ 1,  5,  9],\\n        [ 2,  6, 10],\\n        [ 3,  7, 11]]),\\n array([[ 0,  4,  8],\\n        [ 1,  5,  9],\\n        [ 2,  6, 10],\\n        [ 3,  7, 11]])\\n'"
      ]
     },
     "execution_count": 68,
     "metadata": {},
     "output_type": "execute_result"
    }
   ],
   "source": [
    "a = np.arange(12).reshape(3,4)\n",
    "\n",
    "a.transpose(0,1)# a保持不变\n",
    "\"\"\" \n",
    "array([[ 0,  1,  2,  3],\n",
    "       [ 4,  5,  6,  7],\n",
    "       [ 8,  9, 10, 11]])\n",
    "\"\"\"\n",
    "\n",
    "a.T, a.transpose(1,0)\n",
    "\"\"\" \n",
    "array([[ 0,  4,  8],\n",
    "        [ 1,  5,  9],\n",
    "        [ 2,  6, 10],\n",
    "        [ 3,  7, 11]]),\n",
    " array([[ 0,  4,  8],\n",
    "        [ 1,  5,  9],\n",
    "        [ 2,  6, 10],\n",
    "        [ 3,  7, 11]])\n",
    "\"\"\""
   ]
  },
  {
   "cell_type": "code",
   "execution_count": 72,
   "metadata": {},
   "outputs": [
    {
     "name": "stdout",
     "output_type": "stream",
     "text": [
      "Object `inf` not found.\n"
     ]
    }
   ],
   "source": []
  }
 ],
 "metadata": {
  "kernelspec": {
   "display_name": "pytorch118",
   "language": "python",
   "name": "python3"
  },
  "language_info": {
   "codemirror_mode": {
    "name": "ipython",
    "version": 3
   },
   "file_extension": ".py",
   "mimetype": "text/x-python",
   "name": "python",
   "nbconvert_exporter": "python",
   "pygments_lexer": "ipython3",
   "version": "3.9.18"
  }
 },
 "nbformat": 4,
 "nbformat_minor": 2
}
